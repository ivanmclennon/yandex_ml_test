{
 "metadata": {
  "language_info": {
   "codemirror_mode": {
    "name": "ipython",
    "version": 3
   },
   "file_extension": ".py",
   "mimetype": "text/x-python",
   "name": "python",
   "nbconvert_exporter": "python",
   "pygments_lexer": "ipython3",
   "version": "3.8.5-final"
  },
  "orig_nbformat": 2,
  "kernelspec": {
   "name": "python3",
   "display_name": "Python 3.8.5 64-bit (conda)",
   "metadata": {
    "interpreter": {
     "hash": "92beabea8a5d1d007cccd31dbff5809592cf2adcee9eb7c960fe691fae1295ec"
    }
   }
  }
 },
 "nbformat": 4,
 "nbformat_minor": 2,
 "cells": [
  {
   "cell_type": "code",
   "execution_count": 230,
   "metadata": {},
   "outputs": [],
   "source": [
    "import numpy as np\n",
    "import pandas as pd\n",
    "import math\n",
    "from sklearn.linear_model import LinearRegression"
   ]
  },
  {
   "cell_type": "code",
   "execution_count": 231,
   "metadata": {},
   "outputs": [],
   "source": [
    "# coefs = np.random.randint(1,10,5)\n",
    "# powers = np.random.randint(1,3,5)\n",
    "coefs = [2, 16, -16, -4, 17]\n",
    "powers = [2, 1, 1, 2, 1]\n",
    "# let the function be \n",
    "# f(x1,x2,x3,x4,x5) = 2*x1^2 + 16*x2 - 16*x3 - 4*x4^2 + 17*x5"
   ]
  },
  {
   "cell_type": "code",
   "execution_count": 232,
   "metadata": {},
   "outputs": [],
   "source": [
    "X_train = np.random.uniform(-1,1,(1000,5))\n",
    "f = lambda arr: sum([coefs[i]*arr[i]**powers[i] for i in range(5)])\n",
    "y_train = np.apply_along_axis(f,1,X_train)"
   ]
  },
  {
   "cell_type": "code",
   "execution_count": 233,
   "metadata": {},
   "outputs": [],
   "source": [
    "from sklearn.model_selection import train_test_split\n",
    "X_train, X_test, y_train, y_test = train_test_split(X_train,y_train,test_size=0.1,random_state=42)"
   ]
  },
  {
   "cell_type": "code",
   "execution_count": 234,
   "metadata": {},
   "outputs": [
    {
     "output_type": "stream",
     "name": "stdout",
     "text": [
      "Coefs are: [  0.11754488  16.06298206 -15.99171384   0.16275477  17.00806352]\nScore is: 0.9939461559349352\n"
     ]
    }
   ],
   "source": [
    "lr = LinearRegression(normalize=False, n_jobs=-1)\n",
    "lr.fit(X_train,y_train)\n",
    "print(f'Coefs are: {lr.coef_}')\n",
    "print(f'Score is: {lr.score(X_test,y_test)}')"
   ]
  }
 ]
}